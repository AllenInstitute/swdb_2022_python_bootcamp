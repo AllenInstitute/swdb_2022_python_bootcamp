{
 "cells": [
  {
   "cell_type": "markdown",
   "metadata": {},
   "source": [
    "<img src=\"support_files/images/cropped-SummerWorkshop_Header.png\">  \n",
    "\n",
    "<h1 align=\"center\">Python Bootcamp</h1> \n",
    "<h3 align=\"center\">August 20-21, 2022</h3> "
   ]
  },
  {
   "cell_type": "markdown",
   "metadata": {},
   "source": [
    "<div style=\"border-left: 3px solid #000; padding: 1px; padding-left: 10px; background: #F0FAFF; \">\n",
    "<center><h1>Conda</h1></center>\n",
    "\n",
    "\n",
    "<p><a href=\"https://docs.conda.io/en/latest/\">Conda</a> is an open source package management system and environment management system. To make your project reproducible and to ensure the package dependencies are self-contained, you can build your project in a conda environment that is separate from your main python distribution. The conda package and environment manager is included in all versions of Anaconda, Miniconda, and Anaconda Repository.\n",
    "</div>"
   ]
  },
  {
   "cell_type": "markdown",
   "metadata": {},
   "source": [
    "<div style=\"border-left: 3px solid #000; padding: 1px; padding-left: 10px; background: #F0FAFF; \">\n",
    "<center><h2>Benefits of Conda Environments</h2></center>\n",
    "\n",
    "<p>Without containing python packages in isolated environments, you might get faced with conflicting dependencies. Suppose you have a python library for a project that only works <i>up to</i> python version 3.7 and you have another library for a different project that only works <i>from</i> python 3.8. If you want to run these libraries independently of each other, then it is easily done by creating separate conda environments: one that runs against python 3.7, and one that runs against python 3.8. Overall, conda allows you to:\n",
    "<ul>\n",
    "<li> Ensure your code and dependencies are platform independent (there are occasional caveats)\n",
    "<li> Run a specific version of python\n",
    "<li> Easily install a curated list of dependencies\n",
    "<li> Easily share your code and package dependencies (it was a common problem before conda that code works fine on your machine, but others wer unable to run it)\n",
    "<li> No risk of messing up your system libraries (your operating system might be running python packages and you might brick your computer if you mess around with system libraries!)\n",
    "</ul>\n",
    "</div>"
   ]
  },
  {
   "cell_type": "markdown",
   "metadata": {},
   "source": [
    "<div style=\"border-left: 3px solid #000; padding: 1px; padding-left: 10px; background: #F0FAFF; \">\n",
    "<h2>Creating and activating a conda environment</h2>\n",
    "    \n",
    "<p> Open a conda console. If you installed Anaconda on Windows, you can search for Anaconda Prompt.\n",
    "\n",
    "<p> In the terminal console, to activate the base environment, run:\n",
    "<pre><code>\n",
    "conda activate\n",
    "</code></pre>\n",
    "\n",
    "<p> To create an environment pinned to a specific version of python, you can run:\n",
    "<pre><code>\n",
    "conda create -n myenv python=3.8\n",
    "</code></pre>\n",
    "    \n",
    "<p> (<b>Note:</b> for this course, we'll be using python version 3.8)\n",
    "    \n",
    "<p> (<b>Note:</b> myenv can be named whatever you like.)\n",
    "\n",
    "<p> Once created, you can activate the new environment:\n",
    "<pre><code>\n",
    "conda activate myenv\n",
    "</code></pre>\n",
    "\n",
    "<p> As default, conda will install some basic packages needed to install other packages. You can see what packages have been installed by running:\n",
    "<pre><code>\n",
    "conda list\n",
    "</code></pre>\n",
    "    \n",
    "<p> The output should be similar to:\n",
    "<pre><code>\n",
    "# Name                    Version                   Build  Channel\n",
    "_libgcc_mutex             0.1                        main  \n",
    "_openmp_mutex             5.1                       1_gnu  \n",
    "ca-certificates           2022.07.19           h06a4308_0  \n",
    "certifi                   2022.6.15        py38h06a4308_0  \n",
    "ld_impl_linux-64          2.38                 h1181459_1  \n",
    "libffi                    3.3                  he6710b0_2  \n",
    "libgcc-ng                 11.2.0               h1234567_1  \n",
    "libgomp                   11.2.0               h1234567_1  \n",
    "libstdcxx-ng              11.2.0               h1234567_1  \n",
    "ncurses                   6.3                  h5eee18b_3  \n",
    "openssl                   1.1.1q               h7f8727e_0  \n",
    "pip                       22.1.2           py38h06a4308_0  \n",
    "python                    3.8.13               h12debd9_0  \n",
    "readline                  8.1.2                h7f8727e_1  \n",
    "setuptools                61.2.0           py38h06a4308_0  \n",
    "sqlite                    3.39.2               h5082296_0  \n",
    "tk                        8.6.12               h1ccaba5_0  \n",
    "wheel                     0.37.1             pyhd3eb1b0_0  \n",
    "xz                        5.2.5                h7f8727e_1  \n",
    "zlib                      1.2.12               h7f8727e_2\n",
    "</code></pre>\n",
    "<p> Perfect! We now have a self-contained environment where we can install dependencies.\n",
    "\n",
    "</div>"
   ]
  },
  {
   "cell_type": "markdown",
   "metadata": {},
   "source": [
    "<div style=\"border-left: 3px solid #000; padding: 1px; padding-left: 10px; background: #F0FAFF; \">\n",
    "<h2>Installing dependencies</h2>\n",
    "\n",
    "<p>Let's try installing pandas and seaborn. Run the following commands and select yes when prompted.\n",
    "<pre><code>\n",
    "conda install pandas\n",
    "conda install seaborn\n",
    "</code></pre>\n",
    "\n",
    "<p>It can be tedious manually installing all the packages we require. Luckily, we can define our dependencies in a yaml file. First, let's remove our environment.\n",
    "<pre><code>\n",
    "conda deactivate\n",
    "conda env remove --name myenv\n",
    "</code></pre>\n",
    "\n",
    "<p>We can verify that the environment was removed with:\n",
    "<pre><code>\n",
    "conda env list\n",
    "</code></pre>\n",
    "\n",
    "<p>We can define our environment via a yaml file. Create a file called <b>my_test_environment.yml</b> with the following contents:\n",
    "<pre><code>\n",
    "name: myenv\n",
    "channels:\n",
    "  - defaults\n",
    "dependencies:\n",
    "  - python=3.8\n",
    "  - pandas=1.4.3\n",
    "  - seaborn=0.11.2\n",
    "</code></pre>\n",
    "\n",
    "<p>If we now run:\n",
    "<pre><code>\n",
    "conda env create -f my_test_environment.yml\n",
    "</code></pre>\n",
    "\n",
    "<p>conda should build myenv. We can check by running:\n",
    "<pre><code>\n",
    "conda activate myenv\n",
    "</code></pre>\n",
    "\n",
    "<p>Go ahead and run a python console and try importing the pandas package. The beauty of conda is that we can create multiple environments with their own dependencies pinned to specific versions of python. We can also define the creation of the environment inside a yaml file that we can share with collaborators so that they can reproduce our code.\n",
    "</div>"
   ]
  },
  {
   "cell_type": "markdown",
   "metadata": {},
   "source": [
    "<div style=\"border-left: 3px solid #000; padding: 1px; padding-left: 10px; background: #F0FAFF; \">\n",
    "<h2>The difference between conda install and pip install</h2>\n",
    "\n",
    "<p> In the previous section, it was also possible to install pandas using <code>pip install pandas</code>. Here we'll discuss some key differences between conda and pip.\n",
    "<ul>\n",
    "<li> Pip is a <b>P</b>ackage <b>I</b>nstaller for <b>P</b>ython and downloads and install packages from the Python Package Index (PyPI). Conda installs packages written in any language. As default, conda installs packages hosted from the Anaconda repository.\n",
    "<li> Pip requires a python interpreter to already be installed. Conda can install a python interpreter itself, which is how it is able to set up a python environment.\n",
    "<li> Not all packages available on PyPI can be installed via conda.\n",
    "<li> However, it is possible to install and run pip from within a conda environment.\n",
    "</ul>\n",
    "</div>"
   ]
  },
  {
   "cell_type": "markdown",
   "metadata": {},
   "source": [
    "<div style=\"border-left: 3px solid #000; padding: 1px; padding-left: 10px; background: #F0FAFF; \">\n",
    "<h2>Some notes on activated conda environments</h2>\n",
    "\n",
    "<p> When you create a conda environment:\n",
    "<ul>\n",
    "<li> The environment persists and won't go away unless you explicitly remove it\n",
    "<li> You can activate the environment in another console if desired. Anything installed in an environment on one console will be available in the other console.\n",
    "<li> As default, when you open a console it will be set to the base environment. You'll need to activate your desired environment at each session.\n",
    "</ul>\n",
    "</div>"
   ]
  },
  {
   "cell_type": "markdown",
   "metadata": {},
   "source": [
    "<div style=\"border-left: 3px solid #000; padding: 1px; padding-left: 10px; background: #F0FAFF; \">\n",
    "<h2>Installing packages while inside a Jupyter notebook</h2>\n",
    "\n",
    "<p> In general, it can be tricky to install usable packages while inside a running jupyter notebook, but there are a couple of hacks that can be used. For example, to install numpy, from inside a jupyter notebook cell run:\n",
    "<pre><code>\n",
    "import sys\n",
    "!conda install --yes --prefix {sys.prefix} numpy\n",
    "</code></pre>\n",
    "\n",
    "<p> For pip:\n",
    "<pre><code>\n",
    "import sys\n",
    "!{sys.executable} -m pip install numpy\n",
    "</code></pre>\n",
    "</div>"
   ]
  },
  {
   "cell_type": "markdown",
   "metadata": {},
   "source": [
    "<div style=\"border-left: 3px solid #000; padding: 1px; padding-left: 10px; background: #F0FAFF; \">\n",
    "<center><h2>Creating the SWDB Environment</h2></center>\n",
    "\n",
    "<p>Now that we have practice creating a conda environment, let's create and environment and install the dependencies we'll need for the remainder of the course.\n",
    "<ul>\n",
    "<li> <b>Download</b> the swdb.yml file [TODO: Add link to yaml file]\n",
    "<li> <b>Run</b>: <pre><code>conda env create -f swdb_2022.yml</code></pre>\n",
    "<li> <b>Run</b>: <pre><code>conda activate swdb_2022</code></pre>\n",
    "<li> That's it! You should now have all the libraries installed that you need for the course.\n",
    "</ul>\n",
    "</div>"
   ]
  }
 ],
 "metadata": {
  "kernelspec": {
   "display_name": "Python 3 (ipykernel)",
   "language": "python",
   "name": "python3"
  },
  "language_info": {
   "codemirror_mode": {
    "name": "ipython",
    "version": 3
   },
   "file_extension": ".py",
   "mimetype": "text/x-python",
   "name": "python",
   "nbconvert_exporter": "python",
   "pygments_lexer": "ipython3",
   "version": "3.8.13"
  }
 },
 "nbformat": 4,
 "nbformat_minor": 1
}
