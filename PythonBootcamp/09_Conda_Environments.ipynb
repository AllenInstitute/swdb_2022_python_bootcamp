{
 "cells": [
  {
   "cell_type": "markdown",
   "metadata": {},
   "source": [
    "<img src=\"support_files/images/cropped-SummerWorkshop_Header.png\">  \n",
    "\n",
    "<h1 align=\"center\">Python Bootcamp</h1> \n",
    "<h3 align=\"center\">August 20-21, 2022</h3> "
   ]
  },
  {
   "cell_type": "markdown",
   "metadata": {},
   "source": [
    "<div style=\"border-left: 3px solid #000; padding: 1px; padding-left: 10px; background: #F0FAFF; \">\n",
    "<center><h1>Conda</h1></center>\n",
    "\n",
    "\n",
    "<p>Conda is an open source package management system and environment management system. To make your project reproducible and to ensure the package dependencies are self-contained, you can build your project in a conda environment that is separate from your main python distribution. The conda package and environment manager is included in all versions of Anaconda, Miniconda, and Anaconda Repository.\n",
    "</div>"
   ]
  },
  {
   "cell_type": "markdown",
   "metadata": {},
   "source": [
    "<div style=\"border-left: 3px solid #000; padding: 1px; padding-left: 10px; background: #F0FAFF; \">\n",
    "<p>To activate the base environment just run in a terminal:\n",
    "<pre><code>\n",
    "conda activate\n",
    "</code></pre>\n",
    "\n",
    "<p>To create an environment pinned to a specific version of python, you can run:\n",
    "<pre><code>\n",
    "conda create -n myenv python=3.8\n",
    "</code></pre>\n",
    "\n",
    "<p>Once created, you can activate the new environment:\n",
    "<pre><code>\n",
    "conda activate myenv\n",
    "</code></pre>\n",
    "\n",
    "<p>Perfect! We now have a self-contained environment where we can install dependencies. Let's try installing pandas. Run the following commands and select yes when prompted.\n",
    "<pre><code>\n",
    "conda install pandas\n",
    "conda install seaborn\n",
    "</code></pre>\n",
    "\n",
    "<p>It can be tedious manually installing all the packages we require. Luckily, we can define our dependencies in a yaml file. First, let's delete our environment.\n",
    "<pre><code>\n",
    "conda deactivate\n",
    "conda env remove --name myenv\n",
    "</code></pre>\n",
    "\n",
    "<p>We can verify that the environment was removed with:\n",
    "<pre><code>\n",
    "conda env list\n",
    "</code></pre>\n",
    "\n",
    "<p>We can define our environment via a yaml file. Create a file called <b>environment.yml</b> with the following contents:\n",
    "<pre><code>\n",
    "name: myenv\n",
    "channels:\n",
    "  - defaults\n",
    "dependencies:\n",
    "  - python=3.8\n",
    "  - pandas=1.4.3\n",
    "  - seaborn=0.11.2\n",
    "</code></pre>\n",
    "\n",
    "<p>If we now run:\n",
    "<pre><code>\n",
    "conda env create -f environment.yml\n",
    "</code></pre>\n",
    "\n",
    "<p>conda should build myenv. We can check by running:\n",
    "<pre><code>\n",
    "conda activate myenv\n",
    "</code></pre>\n",
    "\n",
    "<p>Go ahead and run a python console and try importing the pandas package. The beauty of conda is that we can create multiple environments with their own dependencies pinned to specific versions of python. We can also define the creation of the environment inside a yaml file that we can share with collaborators so that they can reproduce our code.\n",
    "</div>"
   ]
  },
  {
   "cell_type": "code",
   "execution_count": null,
   "metadata": {},
   "outputs": [],
   "source": []
  }
 ],
 "metadata": {
  "kernelspec": {
   "display_name": "Python 3 (ipykernel)",
   "language": "python",
   "name": "python3"
  },
  "language_info": {
   "codemirror_mode": {
    "name": "ipython",
    "version": 3
   },
   "file_extension": ".py",
   "mimetype": "text/x-python",
   "name": "python",
   "nbconvert_exporter": "python",
   "pygments_lexer": "ipython3",
   "version": "3.8.13"
  }
 },
 "nbformat": 4,
 "nbformat_minor": 1
}
